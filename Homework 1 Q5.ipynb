{
 "cells": [
  {
   "cell_type": "markdown",
   "metadata": {},
   "source": [
    "We recommend you use the pandas data analysis package in python to do the homework.\n",
    "\n",
    "Export your jupyter notebook as pdf for submission. In particular, you should find the groupby, count and value_count functions provided by pandas useful. However, you are free to do the question using any methods or functions that you like.\n",
    "\n",
    "Download the file \"Horse Racing Results.xlsx\" to complete the homework.\n",
    "The file \"Horse Racing Results.xlsx\" which is extracted from The Hong Kong Jockey Club website stores the horse racing results from 14/15 season to 18/19 season of horses of 5 colors. The column \"Place\" stores the position a horse placed in a race."
   ]
  },
  {
   "cell_type": "markdown",
   "metadata": {},
   "source": [
    "**Part a:** Assume that only one horse placed first in one race. Find the number of unique races. (Hint: the number of times that a 1 appears in the \"Place\" column is same as the number of unique races.)"
   ]
  },
  {
   "cell_type": "code",
   "execution_count": 2,
   "metadata": {},
   "outputs": [
    {
     "data": {
      "text/plain": [
       "213"
      ]
     },
     "execution_count": 2,
     "metadata": {},
     "output_type": "execute_result"
    }
   ],
   "source": [
    "# Put your code here\n",
    "import pandas as pd\n",
    "import numpy as np\n",
    "df = pd.read_excel('Horse Racing Results.xlsx')\n",
    "#df.groupby(['Place']).count()\n",
    "#df['Place'].value_counts()\n",
    "len(df[df['Place']==1])"
   ]
  },
  {
   "cell_type": "markdown",
   "metadata": {},
   "source": [
    "**Part b:** There are 5 colors of horses. Find the size of each color group."
   ]
  },
  {
   "cell_type": "code",
   "execution_count": 51,
   "metadata": {},
   "outputs": [
    {
     "data": {
      "text/plain": [
       "Bay         1853\n",
       "Chestnut     397\n",
       "Brown        289\n",
       "Grey          82\n",
       "Black         32\n",
       "Name: Color, dtype: int64"
      ]
     },
     "execution_count": 51,
     "metadata": {},
     "output_type": "execute_result"
    }
   ],
   "source": [
    "# put your code here\n",
    "df['Color'].value_counts()"
   ]
  },
  {
   "cell_type": "markdown",
   "metadata": {},
   "source": [
    "**Part c:** Find the probabilities that a horse of color Ray wins a race. \n",
    "\n",
    "Hint: the estimated probability of an event can be computed by the relative frequency of the event."
   ]
  },
  {
   "cell_type": "code",
   "execution_count": 60,
   "metadata": {},
   "outputs": [
    {
     "name": "stdout",
     "output_type": "stream",
     "text": [
      "0.05955522050508858\n"
     ]
    }
   ],
   "source": [
    "# put your code here\n",
    "total = len(df)\n",
    "winBay = len(df[(df['Place']==1)&(df['Color']=='Bay')])\n",
    "print(winBay/total)"
   ]
  },
  {
   "cell_type": "markdown",
   "metadata": {},
   "source": [
    "**Part d:** Given that a horse is of color Bay, find the probability that this horse placed first in a race."
   ]
  },
  {
   "cell_type": "code",
   "execution_count": 62,
   "metadata": {},
   "outputs": [
    {
     "name": "stdout",
     "output_type": "stream",
     "text": [
      "0.08526713437668645\n"
     ]
    }
   ],
   "source": [
    "# put your code here\n",
    "Bay = len(df[df['Color']=='Bay'])\n",
    "print(winBay/Bay)"
   ]
  },
  {
   "cell_type": "markdown",
   "metadata": {},
   "source": [
    "**Part e:** Is there a big difference between the results in **Part c** and **Part d**? Explain why there is or there is no difference."
   ]
  },
  {
   "cell_type": "markdown",
   "metadata": {},
   "source": [
    "**Put your Part f answer here:** \n"
   ]
  },
  {
   "cell_type": "code",
   "execution_count": 63,
   "metadata": {},
   "outputs": [],
   "source": [
    "#because for part c we are looking for the probability of winning compared to the sample space,\n",
    "#where for part d we calculated the conditional probability given that the horse's color is Bay.\n",
    "#for part c, we have p(win&Bay) = N(win&Bay)/N(S)\n",
    "#however, for part d, p(win|Bay) = N(win&Bay)/N(Bay)\n",
    "#notice that N(Bay) != N(S), hence giving the difference."
   ]
  },
  {
   "cell_type": "code",
   "execution_count": null,
   "metadata": {},
   "outputs": [],
   "source": []
  }
 ],
 "metadata": {
  "kernelspec": {
   "display_name": "Python 3",
   "language": "python",
   "name": "python3"
  },
  "language_info": {
   "codemirror_mode": {
    "name": "ipython",
    "version": 3
   },
   "file_extension": ".py",
   "mimetype": "text/x-python",
   "name": "python",
   "nbconvert_exporter": "python",
   "pygments_lexer": "ipython3",
   "version": "3.7.1"
  }
 },
 "nbformat": 4,
 "nbformat_minor": 2
}
