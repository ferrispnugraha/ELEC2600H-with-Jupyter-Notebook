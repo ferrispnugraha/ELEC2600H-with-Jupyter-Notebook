{
 "cells": [
  {
   "cell_type": "markdown",
   "metadata": {},
   "source": [
    "We recommend you use the pandas data analysis package in python to do the homework.\n",
    "\n",
    "Export your jupyter notebook as pdf for submission. In particular, you should find the groupby, count and value_count functions provided by pandas useful. However, you are free to do the question using any methods or functions that you like.\n",
    "\n",
    "Download the file \"Horse Racing Results.xlsx\" to complete the homework.\n",
    "The file \"Horse Racing Results.xlsx\" which is extracted from The Hong Kong Jockey Club website stores the horse racing results from 14/15 season to 18/19 season of horses of 5 colors. The column \"Place\" stores the position a horse placed in a race."
   ]
  },
  {
   "cell_type": "markdown",
   "metadata": {},
   "source": [
    "**Part a:** Assume that only one horse placed first in one race. Find the number of unique races. (Hint: the number of times that a 1 appears in the \"Place\" column is same as the number of unique races.)"
   ]
  },
  {
   "cell_type": "code",
   "execution_count": 1,
   "metadata": {},
   "outputs": [],
   "source": [
    "# Put your code here\n",
    "\n"
   ]
  },
  {
   "cell_type": "markdown",
   "metadata": {},
   "source": [
    "**Part b:** There are 5 colors of horses. Find the size of each color group."
   ]
  },
  {
   "cell_type": "code",
   "execution_count": 2,
   "metadata": {},
   "outputs": [],
   "source": [
    "# put your code here\n",
    "\n"
   ]
  },
  {
   "cell_type": "markdown",
   "metadata": {},
   "source": [
    "**Part c:** Find the probabilities that a horse of color Ray wins a race. \n",
    "\n",
    "Hint: the estimated probability of an event can be computed by the relative frequency of the event."
   ]
  },
  {
   "cell_type": "code",
   "execution_count": 3,
   "metadata": {},
   "outputs": [],
   "source": [
    "# put your code here\n"
   ]
  },
  {
   "cell_type": "markdown",
   "metadata": {},
   "source": [
    "**Part d:** Given that a horse is of color Bay, find the probability that this horse placed first in a race."
   ]
  },
  {
   "cell_type": "code",
   "execution_count": 4,
   "metadata": {},
   "outputs": [],
   "source": [
    "# put your code here\n",
    "\n"
   ]
  },
  {
   "cell_type": "markdown",
   "metadata": {},
   "source": [
    "**Part e:** Is there a big difference between the results in **Part c** and **Part d**? Explain why there is or there is no difference."
   ]
  },
  {
   "cell_type": "markdown",
   "metadata": {},
   "source": [
    "**Put your Part f answer here:** \n"
   ]
  },
  {
   "cell_type": "code",
   "execution_count": null,
   "metadata": {},
   "outputs": [],
   "source": []
  }
 ],
 "metadata": {
  "kernelspec": {
   "display_name": "Python 3",
   "language": "python",
   "name": "python3"
  },
  "language_info": {
   "codemirror_mode": {
    "name": "ipython",
    "version": 3
   },
   "file_extension": ".py",
   "mimetype": "text/x-python",
   "name": "python",
   "nbconvert_exporter": "python",
   "pygments_lexer": "ipython3",
   "version": "3.6.5"
  }
 },
 "nbformat": 4,
 "nbformat_minor": 2
}
