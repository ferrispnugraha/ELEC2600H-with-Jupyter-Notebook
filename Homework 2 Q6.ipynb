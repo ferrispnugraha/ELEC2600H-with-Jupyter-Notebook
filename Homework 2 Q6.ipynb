{
 "cells": [
  {
   "cell_type": "markdown",
   "metadata": {},
   "source": [
    "Consider an experiment in which Machine A sends a sequence of binary digits to Machine B through a communication channel. Each time Machine A sends a digit, the probability that Machine B receives it is 0.9."
   ]
  },
  {
   "cell_type": "markdown",
   "metadata": {},
   "source": [
    "**Part a:** For every 30 digits, what is the expected value of the number of digits that Machine B receives?"
   ]
  },
  {
   "cell_type": "markdown",
   "metadata": {},
   "source": [
    "**Put your Part a answer here:** "
   ]
  },
  {
   "cell_type": "markdown",
   "metadata": {},
   "source": [
    "**Part b:** Denote by $X$ the number of digits that Machine B receives. Compute and plot the pmf of X."
   ]
  },
  {
   "cell_type": "code",
   "execution_count": 1,
   "metadata": {},
   "outputs": [],
   "source": [
    "# Put your code for Part b bere\n"
   ]
  },
  {
   "cell_type": "markdown",
   "metadata": {},
   "source": [
    "**Part c:** From the pmf of $X$ in **Part b**, find the probability that out of 30 digits, Machine B receives 29 digits."
   ]
  },
  {
   "cell_type": "markdown",
   "metadata": {},
   "source": [
    "**Put your Part c answer here:** "
   ]
  },
  {
   "cell_type": "markdown",
   "metadata": {},
   "source": [
    "**Part d:** Generate 50,000 samples of $X$ and plot the normalized histogram of these samples.\n",
    "\n",
    "The normalized histogram can be computed by dividing the count in each bin by the number of observations times the bin width. In python, this can be selected by passing “density=True” into the matplotlib.pyplot.hist or pandas.DataFrame.hist functions"
   ]
  },
  {
   "cell_type": "code",
   "execution_count": 2,
   "metadata": {},
   "outputs": [],
   "source": [
    "# Put your code for Part d here\n"
   ]
  },
  {
   "cell_type": "markdown",
   "metadata": {},
   "source": [
    "**Part e:** Assume Machine A will resend the digit until Machine B receive it. Denote by Y the number of trials until Machine B receives the digit for the first time. Use the Python to compute and plot the pmf of $Y$. Generate 50,000 samples of Y and plot the normalized histogram of these samples."
   ]
  },
  {
   "cell_type": "code",
   "execution_count": 3,
   "metadata": {},
   "outputs": [],
   "source": [
    "# Put your code for Part e here\n"
   ]
  },
  {
   "cell_type": "markdown",
   "metadata": {},
   "source": [
    "**Part f:** Frome the pmf of $Y$ in **Part e**, find the probability that Machine B receive the digit for the first time on the second trial."
   ]
  },
  {
   "cell_type": "markdown",
   "metadata": {},
   "source": [
    "**Put your Part f answer here:** "
   ]
  },
  {
   "cell_type": "code",
   "execution_count": null,
   "metadata": {},
   "outputs": [],
   "source": []
  }
 ],
 "metadata": {
  "kernelspec": {
   "display_name": "Python 3",
   "language": "python",
   "name": "python3"
  },
  "language_info": {
   "codemirror_mode": {
    "name": "ipython",
    "version": 3
   },
   "file_extension": ".py",
   "mimetype": "text/x-python",
   "name": "python",
   "nbconvert_exporter": "python",
   "pygments_lexer": "ipython3",
   "version": "3.6.5"
  }
 },
 "nbformat": 4,
 "nbformat_minor": 2
}
