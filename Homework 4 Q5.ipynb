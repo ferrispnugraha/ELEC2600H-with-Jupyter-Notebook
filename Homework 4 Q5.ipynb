{
 "cells": [
  {
   "cell_type": "markdown",
   "metadata": {},
   "source": [
    "6. Suppose you are operating a snack store. You would like to offer a promotion for the coming summer. Your idea for the promotion is bundling two snacks together and allow customers to buy two snacks at a time for the cost of one. Suppose there are 100000 snacks in your store. All snacks are indexed by a unique integer id ($0\\leq id \\leq 100000-1$). Assume that the price of each snack is uniformly distributed in $\\{18, 19, 20, 21, 22\\}$. The price of each snack is independent of each other."
   ]
  },
  {
   "cell_type": "markdown",
   "metadata": {},
   "source": [
    "**Part I:** Plot the pmf of the price of one snack as well as the pmf of the sum of the prices of two snacks. Hint: The distribution of the sum of two independent random variables is the convolution of the distributions of the two random variables. You may use numpy.convolve to obtain the pmf of the sum of the prices of two snacks. You may use stem plot."
   ]
  },
  {
   "cell_type": "code",
   "execution_count": 1,
   "metadata": {},
   "outputs": [],
   "source": [
    "import numpy as np\n",
    "import scipy.stats\n",
    "import matplotlib.pyplot as plt"
   ]
  },
  {
   "cell_type": "code",
   "execution_count": 2,
   "metadata": {},
   "outputs": [],
   "source": [
    "# Put your code to plot the pmf of the price of one snack as well as the pmf of the sum of the prices of two snacks here\n",
    "\n"
   ]
  },
  {
   "cell_type": "markdown",
   "metadata": {},
   "source": [
    "**In order to reduce the cost, you decide that you will only bundle snacks if the sum of their prices is 39 or less. **"
   ]
  },
  {
   "cell_type": "markdown",
   "metadata": {},
   "source": [
    "**Part II:** Suppose you pick two snacks at random and check the sum of their prices. "
   ]
  },
  {
   "cell_type": "markdown",
   "metadata": {},
   "source": [
    "**a:** Let $N$ be the number of snacks accessed in order to pick two snacks such that the sum of their prices is 39 or less. Identify the distribution of $N$ as a distribution known in class. Find the expected value of $N$."
   ]
  },
  {
   "cell_type": "markdown",
   "metadata": {},
   "source": [
    "**Your Answer:**"
   ]
  },
  {
   "cell_type": "markdown",
   "metadata": {},
   "source": [
    "We define below a function called getSnack, that allows you access snacks by calling getSnack( index ). "
   ]
  },
  {
   "cell_type": "code",
   "execution_count": 3,
   "metadata": {},
   "outputs": [],
   "source": [
    "from __future__ import division\n",
    "from numpy import random\n",
    "import string\n",
    "\n",
    "def getSnack( index ):\n",
    "    if index >= 100000 or index < 0:\n",
    "        return None\n",
    "    random.seed( index )\n",
    "    letter_nums = string.ascii_uppercase + string.digits \n",
    "    letter_nums = [letter for letter in letter_nums]\n",
    "    my_id = ''.join(random.choice(letter_nums) for _ in range(20))\n",
    "    my_price = scipy.stats.randint.rvs(18, 22+1)\n",
    "    return {'id':my_id, 'price':my_price}"
   ]
  },
  {
   "cell_type": "markdown",
   "metadata": {},
   "source": [
    "**b:** We have simulated the trials 10000 times and plot the empirical histogram of $N$ for you below. Compute an estimate of the expectation of $N$ and output the value. Plot the theoretical pmf of $N$, which can be generated using scipy.stats.geom.pmf(). Check your work by comparing the estimated expectation and theoretical pmf of $N$ with the expected value of $N$ in **a** and the empirical histogram."
   ]
  },
  {
   "cell_type": "code",
   "execution_count": 6,
   "metadata": {
    "scrolled": true
   },
   "outputs": [
    {
     "data": {
      "text/plain": [
       "(array([0.    , 0.3419, 0.2105, 0.2106, 0.079 , 0.0526, 0.0264, 0.    ,\n",
       "        0.0263, 0.0264, 0.0263, 0.    , 0.    , 0.    , 0.    , 0.    ,\n",
       "        0.    , 0.    , 0.    , 0.    ]),\n",
       " array([ 0,  1,  2,  3,  4,  5,  6,  7,  8,  9, 10, 11, 12, 13, 14, 15, 16,\n",
       "        17, 18, 19, 20]),\n",
       " <a list of 20 Patch objects>)"
      ]
     },
     "execution_count": 6,
     "metadata": {},
     "output_type": "execute_result"
    },
    {
     "data": {
      "image/png": "[encoded data removed]",
      "text/plain": [
       "<Figure size 432x288 with 1 Axes>"
      ]
     },
     "metadata": {},
     "output_type": "display_data"
    }
   ],
   "source": [
    "m = 10000 # number of times to simulate\n",
    "total = 0 # initialize the total number of trails performed\n",
    "pmf = [] # an empty array to be used to accomodate the number of snacks has been accessed\n",
    "bins = np.arange(0,21,1)\n",
    "for i in range(m):\n",
    "    curr = 0\n",
    "    while True:\n",
    "        curr += 2\n",
    "        id1 = random.randint(0,100000)\n",
    "        id2 = random.randint(0,100000)\n",
    "        while id1 == id2:\n",
    "            id2 = random.randint(0,100000)\n",
    "        if getSnack(id1)['price'] + getSnack(id2)['price'] <= 39:\n",
    "            break\n",
    "    pmf.append(curr/2)\n",
    "    total += curr # total number of snacks has been accessed\n",
    "plt.hist(pmf,bins,density = True,alpha = 0.5)\n",
    "\n",
    "# put your code to compute the estimate of the expecation of N here\n",
    "\n",
    "\n",
    "# put your code to plot the theoretical pmf of N here\n"
   ]
  },
  {
   "cell_type": "markdown",
   "metadata": {},
   "source": [
    "**Part III:** One day later, you come up with another idea on picking snacks. Pick one snack at random, and see whether the price is less than or equal to 20. If it is, keep the snack, and search again to find another snack with price of 19 or less."
   ]
  },
  {
   "cell_type": "markdown",
   "metadata": {},
   "source": [
    "**a:** Let $M$ be the number of snacks accessed in order to pick two snacks such that the sum of their prices is 39 or less. Find the expected value of $M$."
   ]
  },
  {
   "cell_type": "markdown",
   "metadata": {},
   "source": [
    "**Your Answer:** "
   ]
  },
  {
   "cell_type": "markdown",
   "metadata": {},
   "source": [
    "**b:** We have simulated the trials 10000 times for you below. Compute an estimate of the expectation of $M$ and output the value."
   ]
  },
  {
   "cell_type": "code",
   "execution_count": 4,
   "metadata": {},
   "outputs": [],
   "source": [
    "m = 10000 # number of times to simulate event\n",
    "\n",
    "total = 0\n",
    "for i in range(m):\n",
    "    curr = 0\n",
    "    for j in range(2):\n",
    "        while True:\n",
    "            curr += 1\n",
    "            id1 = random.randint(0,100000)\n",
    "            if (j ==0 and getSnack(id1)['price'] <= 20):\n",
    "                break\n",
    "            elif (j== 1 and getSnack(id1)['price'] <= 19):\n",
    "                break\n",
    "    total += curr\n",
    "# put your code to compute the estimate of the expecation of M here\n"
   ]
  },
  {
   "cell_type": "markdown",
   "metadata": {},
   "source": [
    "**Part IV:** Which strategy should you use?"
   ]
  },
  {
   "cell_type": "markdown",
   "metadata": {},
   "source": [
    "**Your Answer:**"
   ]
  },
  {
   "cell_type": "code",
   "execution_count": null,
   "metadata": {},
   "outputs": [],
   "source": []
  }
 ],
 "metadata": {
  "kernelspec": {
   "display_name": "Python 3",
   "language": "python",
   "name": "python3"
  },
  "language_info": {
   "codemirror_mode": {
    "name": "ipython",
    "version": 3
   },
   "file_extension": ".py",
   "mimetype": "text/x-python",
   "name": "python",
   "nbconvert_exporter": "python",
   "pygments_lexer": "ipython3",
   "version": "3.6.5"
  }
 },
 "nbformat": 4,
 "nbformat_minor": 2
}
