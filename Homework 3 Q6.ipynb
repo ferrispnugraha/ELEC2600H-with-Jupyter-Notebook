{
 "cells": [
  {
   "cell_type": "markdown",
   "metadata": {},
   "source": [
    "The file \"Abalone.xlsx\" stores the number of rings of two types of abalones (Female and Infant)."
   ]
  },
  {
   "cell_type": "markdown",
   "metadata": {},
   "source": [
    "**Part a:** Plot the normalized histogram of the number of rings for all the data without regard to abalone type from 0 to 30 with bin size 1. The normalized histogram can be computed by the count in each bin by the number of observations times the bin width. In python, this can be selected by passing \"density=True\" into the **matplotlib.pyplot.hist** or **pandas.DataFrame.hist** functions."
   ]
  },
  {
   "cell_type": "code",
   "execution_count": 1,
   "metadata": {},
   "outputs": [],
   "source": [
    "# Put your code here\n"
   ]
  },
  {
   "cell_type": "markdown",
   "metadata": {},
   "source": [
    "**Part b:** Calculate empirical mean $m$ and standard deviation $\\sigma$ of the number of rings. For a set of data $\\{r_1,r_2,⋯,r_n\\}$, these can be computed by: $m=\\frac{1}{n}\\sum_{i=1}^{n}r_i$ and $\\sigma=\\sqrt{\\frac{1}{n-1}\\sum_{i=1}^{n}(r_i-m)^2}$"
   ]
  },
  {
   "cell_type": "code",
   "execution_count": 2,
   "metadata": {},
   "outputs": [],
   "source": [
    "# Put your code here \n"
   ]
  },
  {
   "cell_type": "markdown",
   "metadata": {},
   "source": [
    "**Part c:** Assume that the probability density function of the number of rings, $f_R(r)$, is given by a Gaussian distribution with mean and standard deviation computed above. You can compute values of the Gaussian distribution in python using the scyipy.stats.norm.pdf function. Note that the Gaussian distribution is also called the normal distribution.\n",
    "\n",
    "Compare the normalized histogram in **Part a** with the plot of $f_R(r)$ by plotting both together in the same figure for $r$ from 0 to 30. Does this look like a good model of the data? "
   ]
  },
  {
   "cell_type": "code",
   "execution_count": 3,
   "metadata": {},
   "outputs": [],
   "source": [
    "# Put your code here\n"
   ]
  },
  {
   "cell_type": "markdown",
   "metadata": {},
   "source": [
    "**Your analysis of Part c**:"
   ]
  },
  {
   "cell_type": "markdown",
   "metadata": {},
   "source": [
    "**Part d:** Now generate plots of normalized histogram of the number of rings for each abalone type separately."
   ]
  },
  {
   "cell_type": "code",
   "execution_count": 4,
   "metadata": {},
   "outputs": [],
   "source": [
    "# Put your code here\n"
   ]
  },
  {
   "cell_type": "markdown",
   "metadata": {},
   "source": [
    "**Part e:** Compute the empirical conditional mean and conditional variance of the number of rings for each abalone type using the same equation as in **Part b** except the summations only contain data for each abalone type. In Python, you can do this automatically using “groupby”."
   ]
  },
  {
   "cell_type": "code",
   "execution_count": 5,
   "metadata": {},
   "outputs": [],
   "source": [
    "# Put your code here\n"
   ]
  },
  {
   "cell_type": "markdown",
   "metadata": {},
   "source": [
    "**Part f:** Assume that the conditional probability density functions of the number of rings given female and infant, $f_{R|type}(r|female)$ and $f_{R|type}(r|infant)$, are given by Gaussian distributions with means and variances computed in **Part e**, respectively. \n",
    "\n",
    "For each abalone type, compare the normalized histogram with the conditional density by plotting them both in the same figure for $r$ from 0 to 30. Does the Gaussian assumption look like a good assumption when each iris type is considered in isolation?"
   ]
  },
  {
   "cell_type": "code",
   "execution_count": 6,
   "metadata": {},
   "outputs": [],
   "source": [
    "# Put your code here\n"
   ]
  },
  {
   "cell_type": "markdown",
   "metadata": {},
   "source": [
    "**Your analysis on Part f:** "
   ]
  },
  {
   "cell_type": "markdown",
   "metadata": {},
   "source": [
    "**Part g:** Assume that $P[Female] =  P[Infant] = 0.5$. Use the total probability theorem to combine the two conditional densities to obtain a new model distribution for the number of rings, $g_R (r)$. Compare the plot of $g_R (r)$ with the normalized histogram in **Part a** by plotting both in the same figure for r from 0 to 30. How does this compare with the single Gaussian assumption in **Part c**?"
   ]
  },
  {
   "cell_type": "code",
   "execution_count": 7,
   "metadata": {},
   "outputs": [],
   "source": [
    "# Put your code here\n"
   ]
  },
  {
   "cell_type": "markdown",
   "metadata": {},
   "source": [
    "**Your analysis on Part g:** "
   ]
  },
  {
   "cell_type": "code",
   "execution_count": null,
   "metadata": {},
   "outputs": [],
   "source": []
  }
 ],
 "metadata": {
  "kernelspec": {
   "display_name": "Python 3",
   "language": "python",
   "name": "python3"
  },
  "language_info": {
   "codemirror_mode": {
    "name": "ipython",
    "version": 3
   },
   "file_extension": ".py",
   "mimetype": "text/x-python",
   "name": "python",
   "nbconvert_exporter": "python",
   "pygments_lexer": "ipython3",
   "version": "3.6.5"
  }
 },
 "nbformat": 4,
 "nbformat_minor": 2
}
